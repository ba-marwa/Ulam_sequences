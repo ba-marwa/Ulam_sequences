{
 "cells": [
  {
   "cell_type": "markdown",
   "metadata": {},
   "source": [
    "# Investigating Ulam sequences"
   ]
  },
  {
   "cell_type": "markdown",
   "metadata": {},
   "source": [
    "### Creating a function for Ulam sequences :"
   ]
  },
  {
   "cell_type": "code",
   "execution_count": 110,
   "metadata": {},
   "outputs": [],
   "source": [
    "def Ulam_seq(a,b,k):\n",
    "    if a<0 : print(\"Valeur erronée du premier paramètre.\")\n",
    "    if b<0 : print(\"Valeur erronée du second paramètre.\")\n",
    "    if k<0 : print(\"Valeur erronée du troisième paramètre.\")\n",
    "    US=[a,b]\n",
    "    if k==2:\n",
    "        return US\n",
    "    else:\n",
    "        US.append(a+b)\n",
    "        count=[]\n",
    "        j=1\n",
    "        while len(US)<k:\n",
    "            elt=US[len(US)-1]+j\n",
    "            for l in range(0,len(US)):\n",
    "                diff=elt-US[l]\n",
    "                if ((diff in US) and (US[l]!=diff)) : \n",
    "                    count.append(diff)\n",
    "                    count.append(US[l])\n",
    "            count=list(set(count))\n",
    "            if len(count)==2: \n",
    "                US.append(elt)\n",
    "                j=1\n",
    "            else:\n",
    "                j+=1\n",
    "            count=[]\n",
    "    return US    "
   ]
  },
  {
   "cell_type": "markdown",
   "metadata": {},
   "source": [
    "### Computing the Sum"
   ]
  },
  {
   "cell_type": "code",
   "execution_count": null,
   "metadata": {},
   "outputs": [],
   "source": [
    "somme=0\n",
    "for i in range(2,10):\n",
    "    somme+=sum(Ulam_seq(2,2*i,10**11))\n",
    "somme"
   ]
  }
 ],
 "metadata": {
  "kernelspec": {
   "display_name": "Python 3",
   "language": "python",
   "name": "python3"
  },
  "language_info": {
   "codemirror_mode": {
    "name": "ipython",
    "version": 3
   },
   "file_extension": ".py",
   "mimetype": "text/x-python",
   "name": "python",
   "nbconvert_exporter": "python",
   "pygments_lexer": "ipython3",
   "version": "3.7.4"
  }
 },
 "nbformat": 4,
 "nbformat_minor": 2
}
